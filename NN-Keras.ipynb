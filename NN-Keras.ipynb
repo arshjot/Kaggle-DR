{
 "cells": [
  {
   "cell_type": "code",
   "execution_count": 101,
   "metadata": {
    "collapsed": false,
    "scrolled": true
   },
   "outputs": [],
   "source": [
    "import keras\n",
    "from keras.optimizers import SGD\n",
    "from keras.optimizers import Adam\n",
    "from keras.models import Sequential\n",
    "from keras.layers import MaxPooling2D\n",
    "from keras.callbacks import TensorBoard\n",
    "from keras.layers.convolutional import Convolution2D\n",
    "from keras.layers import Dense\n",
    "from keras.layers import Dropout\n",
    "from keras.layers import Flatten\n",
    "from keras.regularizers import l2, activity_l2\n",
    "from keras.constraints import maxnorm\n",
    "import tensorflow as tf\n",
    "import numpy as np\n",
    "import matplotlib as plt\n",
    "import math\n",
    "np.random.seed(1)"
   ]
  },
  {
   "cell_type": "code",
   "execution_count": 16,
   "metadata": {
    "collapsed": false
   },
   "outputs": [],
   "source": [
    "#Creating functions for importing features and labels\n",
    "def readFeaturesCSV(filename,usecols=range(1,785)):\n",
    "    \"\"\"Imports features from CSV file and standardizes the features\"\"\"\n",
    "    features=np.genfromtxt(filename,delimiter=',',skip_header=1,usecols=usecols,dtype=np.float32)\n",
    "    features=np.divide(features,255.0)\n",
    "    return features\n",
    "\n",
    "def readLabelsCSV(filename,usecols=0):\n",
    "    \"\"\"Imports labels from CSV file\"\"\"\n",
    "    labels=np.genfromtxt(filename,delimiter=',',skip_header=1,usecols=usecols,dtype=np.int)\n",
    "    labelsVector=np.zeros([len(labels),10])\n",
    "    labelsVector[range(len(labelsVector)),labels]=1\n",
    "    return labelsVector"
   ]
  },
  {
   "cell_type": "code",
   "execution_count": 17,
   "metadata": {
    "collapsed": true
   },
   "outputs": [],
   "source": [
    "def trainSplit(features,labels,splitRatio):\n",
    "    \"\"\"Splits into training and validation set\"\"\"\n",
    "    trainIndices=np.random.randint(low=0,high=len(features)-1,size=int(math.floor(len(features)*splitRatio)))\n",
    "    trainFeatures=features[trainIndices]\n",
    "    trainLabels=labels[trainIndices]\n",
    "    valFeatures=np.delete(features,trainIndices,0)\n",
    "    valLabels=np.delete(labels,trainIndices,0)\n",
    "    return (trainFeatures,trainLabels,valFeatures,valLabels)"
   ]
  },
  {
   "cell_type": "code",
   "execution_count": 18,
   "metadata": {
    "collapsed": true
   },
   "outputs": [],
   "source": [
    "#Importing training data\n",
    "features=readFeaturesCSV('./Raw Data/train.csv')\n",
    "labels=readLabelsCSV('./Raw Data/train.csv')"
   ]
  },
  {
   "cell_type": "code",
   "execution_count": 60,
   "metadata": {
    "collapsed": false
   },
   "outputs": [],
   "source": [
    "#Splitting into training and validation set\n",
    "trainFeatures,trainLabels,valFeatures,valLabels=trainSplit(features,labels,splitRatio=1.0)"
   ]
  },
  {
   "cell_type": "code",
   "execution_count": 103,
   "metadata": {
    "collapsed": false
   },
   "outputs": [],
   "source": [
    "#Create model - (Convolution layers x2 --> Max Pooling layer) x2 --> Fully connected layer --> Dropout layer --> Readout layer\n",
    "model=Sequential()\n",
    "\n",
    "model.add(Convolution2D(32, 3, 3, border_mode='same',activation='relu',input_shape=(28, 28,1)))\n",
    "model.add(Convolution2D(32, 3, 3, border_mode='same',activation='relu'))\n",
    "model.add(MaxPooling2D((2,2),strides=(2,2)))\n",
    "\n",
    "model.add(Convolution2D(64, 3, 3, border_mode='same',activation='relu'))\n",
    "model.add(Convolution2D(64, 3, 3, border_mode='same',activation='relu'))\n",
    "model.add(MaxPooling2D((2,2),strides=(2,2)))\n",
    "\n",
    "model.add(Flatten())\n",
    "model.add(Dense(1024,init='normal',activation='relu'))\n",
    "model.add(Dropout(0.3))\n",
    "\n",
    "model.add(Dense(10,init='normal',activation='softmax'))"
   ]
  },
  {
   "cell_type": "code",
   "execution_count": 104,
   "metadata": {
    "collapsed": false
   },
   "outputs": [
    {
     "name": "stdout",
     "output_type": "stream",
     "text": [
      "Train on 35700 samples, validate on 6300 samples\n",
      "WARNING:tensorflow:From /home/arsh/anaconda3/lib/python3.5/site-packages/keras/callbacks.py:618 in set_model.: merge_all_summaries (from tensorflow.python.ops.logging_ops) is deprecated and will be removed after 2016-11-30.\n",
      "Instructions for updating:\n",
      "Please switch to tf.summary.merge_all.\n",
      "Epoch 1/25\n",
      "35700/35700 [==============================] - 414s - loss: 0.3701 - acc: 0.8871 - val_loss: 0.0988 - val_acc: 0.9716\n",
      "Epoch 2/25\n",
      "35700/35700 [==============================] - 394s - loss: 0.0865 - acc: 0.9736 - val_loss: 0.0646 - val_acc: 0.9814\n",
      "Epoch 3/25\n",
      "35700/35700 [==============================] - 400s - loss: 0.0543 - acc: 0.9827 - val_loss: 0.0449 - val_acc: 0.9876\n",
      "Epoch 4/25\n",
      "35700/35700 [==============================] - 396s - loss: 0.0376 - acc: 0.9882 - val_loss: 0.0410 - val_acc: 0.9883\n",
      "Epoch 5/25\n",
      "35700/35700 [==============================] - 403s - loss: 0.0288 - acc: 0.9909 - val_loss: 0.0362 - val_acc: 0.9887\n",
      "Epoch 6/25\n",
      "35700/35700 [==============================] - 402s - loss: 0.0220 - acc: 0.9930 - val_loss: 0.0303 - val_acc: 0.9913\n",
      "Epoch 7/25\n",
      "35700/35700 [==============================] - 391s - loss: 0.0174 - acc: 0.9943 - val_loss: 0.0255 - val_acc: 0.9930\n",
      "Epoch 8/25\n",
      "35700/35700 [==============================] - 410s - loss: 0.0141 - acc: 0.9954 - val_loss: 0.0318 - val_acc: 0.9906\n",
      "Epoch 9/25\n",
      "35700/35700 [==============================] - 393s - loss: 0.0120 - acc: 0.9963 - val_loss: 0.0323 - val_acc: 0.9910\n",
      "Epoch 10/25\n",
      "35700/35700 [==============================] - 392s - loss: 0.0094 - acc: 0.9970 - val_loss: 0.0298 - val_acc: 0.9922\n",
      "Epoch 11/25\n",
      "35700/35700 [==============================] - 408s - loss: 0.0102 - acc: 0.9965 - val_loss: 0.0286 - val_acc: 0.9922\n",
      "Epoch 12/25\n",
      "35700/35700 [==============================] - 441s - loss: 0.0080 - acc: 0.9972 - val_loss: 0.0305 - val_acc: 0.9929\n",
      "Epoch 13/25\n",
      "35700/35700 [==============================] - 407s - loss: 0.0071 - acc: 0.9979 - val_loss: 0.0248 - val_acc: 0.9941\n",
      "Epoch 14/25\n",
      "35700/35700 [==============================] - 406s - loss: 0.0069 - acc: 0.9979 - val_loss: 0.0271 - val_acc: 0.9925\n",
      "Epoch 15/25\n",
      "35700/35700 [==============================] - 412s - loss: 0.0048 - acc: 0.9986 - val_loss: 0.0241 - val_acc: 0.9946\n",
      "Epoch 16/25\n",
      "35700/35700 [==============================] - 428s - loss: 0.0041 - acc: 0.9987 - val_loss: 0.0252 - val_acc: 0.9938\n",
      "Epoch 17/25\n",
      "35700/35700 [==============================] - 417s - loss: 0.0051 - acc: 0.9984 - val_loss: 0.0329 - val_acc: 0.9913\n",
      "Epoch 18/25\n",
      "35700/35700 [==============================] - 445s - loss: 0.0048 - acc: 0.9983 - val_loss: 0.0304 - val_acc: 0.9932\n",
      "Epoch 19/25\n",
      "35700/35700 [==============================] - 408s - loss: 0.0046 - acc: 0.9983 - val_loss: 0.0250 - val_acc: 0.9932\n",
      "Epoch 20/25\n",
      "35700/35700 [==============================] - 394s - loss: 0.0021 - acc: 0.9994 - val_loss: 0.0331 - val_acc: 0.9927\n",
      "Epoch 21/25\n",
      "35700/35700 [==============================] - 405s - loss: 0.0020 - acc: 0.9993 - val_loss: 0.0294 - val_acc: 0.9946\n",
      "Epoch 22/25\n",
      "35700/35700 [==============================] - 416s - loss: 0.0022 - acc: 0.9992 - val_loss: 0.0337 - val_acc: 0.9927\n",
      "Epoch 23/25\n",
      "35700/35700 [==============================] - 437s - loss: 0.0049 - acc: 0.9983 - val_loss: 0.0242 - val_acc: 0.9951\n",
      "Epoch 24/25\n",
      "35700/35700 [==============================] - 435s - loss: 0.0026 - acc: 0.9992 - val_loss: 0.0292 - val_acc: 0.9943\n",
      "Epoch 25/25\n",
      "35700/35700 [==============================] - 421s - loss: 0.0023 - acc: 0.9992 - val_loss: 0.0266 - val_acc: 0.9946\n"
     ]
    },
    {
     "data": {
      "text/plain": [
       "<keras.callbacks.History at 0x7f7a1e854da0>"
      ]
     },
     "execution_count": 104,
     "metadata": {},
     "output_type": "execute_result"
    }
   ],
   "source": [
    "#Compile model\n",
    "adam=Adam(lr=0.0001)\n",
    "model.compile(loss='categorical_crossentropy',optimizer=adam,metrics=['accuracy'])\n",
    "tensor_log=TensorBoard(log_dir='./TensorLogs', histogram_freq=0, write_graph=True, write_images=False)\n",
    "\n",
    "#Train the model\n",
    "train2D=trainFeatures.reshape((len(trainFeatures),28,28,1))\n",
    "model.fit(train2D,trainLabels,batch_size=50,nb_epoch=25,validation_split=0.15,callbacks=[tensor_log])"
   ]
  },
  {
   "cell_type": "code",
   "execution_count": 105,
   "metadata": {
    "collapsed": false
   },
   "outputs": [],
   "source": [
    "#Importing test data\n",
    "testFeatures=readFeaturesCSV('./Raw Data/test.csv',usecols=range(0,784))"
   ]
  },
  {
   "cell_type": "code",
   "execution_count": 106,
   "metadata": {
    "collapsed": false
   },
   "outputs": [
    {
     "name": "stdout",
     "output_type": "stream",
     "text": [
      "28000/28000 [==============================] - 93s    \n"
     ]
    }
   ],
   "source": [
    "#Predicting\n",
    "test2D=testFeatures.reshape((len(testFeatures),28,28,1))\n",
    "predictions=model.predict_classes(test2D)"
   ]
  },
  {
   "cell_type": "code",
   "execution_count": 107,
   "metadata": {
    "collapsed": true
   },
   "outputs": [],
   "source": [
    "predictions_prob=model.predict(test2D)"
   ]
  },
  {
   "cell_type": "code",
   "execution_count": 109,
   "metadata": {
    "collapsed": false
   },
   "outputs": [
    {
     "data": {
      "text/plain": [
       "[<matplotlib.lines.Line2D at 0x7f7a1a1d1f98>]"
      ]
     },
     "execution_count": 109,
     "metadata": {},
     "output_type": "execute_result"
    },
    {
     "data": {
      "image/png": "[encoded data removed]",
      "text/plain": [
       "<matplotlib.figure.Figure at 0x7f7a4935e518>"
      ]
     },
     "metadata": {},
     "output_type": "display_data"
    }
   ],
   "source": [
    "import matplotlib.pyplot as pyplot\n",
    "%matplotlib inline\n",
    "pyplot.plot(predictions_prob[4,:])"
   ]
  },
  {
   "cell_type": "code",
   "execution_count": 110,
   "metadata": {
    "collapsed": false
   },
   "outputs": [],
   "source": [
    "#Exporting\n",
    "np.savetxt('Output/Keras_CCpCCpFcD_25.csv',predictions,delimiter=',')"
   ]
  }
 ],
 "metadata": {
  "anaconda-cloud": {},
  "kernelspec": {
   "display_name": "Python [conda root]",
   "language": "python",
   "name": "conda-root-py"
  },
  "language_info": {
   "codemirror_mode": {
    "name": "ipython",
    "version": 3
   },
   "file_extension": ".py",
   "mimetype": "text/x-python",
   "name": "python",
   "nbconvert_exporter": "python",
   "pygments_lexer": "ipython3",
   "version": "3.5.2"
  }
 },
 "nbformat": 4,
 "nbformat_minor": 1
}
